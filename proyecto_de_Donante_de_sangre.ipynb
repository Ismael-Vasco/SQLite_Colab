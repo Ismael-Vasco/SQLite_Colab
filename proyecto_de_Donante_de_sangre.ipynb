{
  "nbformat": 4,
  "nbformat_minor": 0,
  "metadata": {
    "colab": {
      "provenance": [],
      "authorship_tag": "ABX9TyMBTn9cRkO7X/grGN4Gct3B",
      "include_colab_link": true
    },
    "kernelspec": {
      "name": "python3",
      "display_name": "Python 3"
    },
    "language_info": {
      "name": "python"
    }
  },
  "cells": [
    {
      "cell_type": "markdown",
      "metadata": {
        "id": "view-in-github",
        "colab_type": "text"
      },
      "source": [
        "<a href=\"https://colab.research.google.com/github/Ismael-Vasco/SQLite_Colab/blob/main/proyecto_de_Donante_de_sangre.ipynb\" target=\"_parent\"><img src=\"https://colab.research.google.com/assets/colab-badge.svg\" alt=\"Open In Colab\"/></a>"
      ]
    },
    {
      "cell_type": "markdown",
      "source": [
        "# librerias"
      ],
      "metadata": {
        "id": "zZbBKOGPXQJL"
      }
    },
    {
      "cell_type": "code",
      "execution_count": 53,
      "metadata": {
        "id": "ML4U-4bMwFsr"
      },
      "outputs": [],
      "source": [
        "\"\"\" buscar un donante de sangre dentro de la ubicación y el tipo de sangre \"\"\"\n",
        "# Importar librerías necesarias\n",
        "import csv\n",
        "import sqlite3"
      ]
    },
    {
      "cell_type": "markdown",
      "source": [
        "# creación de la base de datos"
      ],
      "metadata": {
        "id": "WaboycBbXTrC"
      }
    },
    {
      "cell_type": "code",
      "source": [
        "# crear basee de datos\n",
        "# crear conexión en el directorio\n",
        "conexion = sqlite3.connect('Donantes.db')"
      ],
      "metadata": {
        "id": "8oFc-BfMwpcv"
      },
      "execution_count": 54,
      "outputs": []
    },
    {
      "cell_type": "markdown",
      "source": [
        "# creación de tabla para registrar donantes"
      ],
      "metadata": {
        "id": "MVzs3aj7XW8K"
      }
    },
    {
      "cell_type": "code",
      "source": [
        "# crear cursor\n",
        "cursor = conexion.cursor()\n",
        "\n",
        "# crear tabla\n",
        "cursor.execute(\"\"\"CREATE TABLE IF NOT EXISTS donantes_sangre(\n",
        "                id integer primary key AUTOINCREMENT,\n",
        "                nombre varchar(255),\n",
        "                apellido varchar(255),\n",
        "                cedula int(30),\n",
        "                tipo_sangre varchar(10),\n",
        "                ubicación text,\n",
        "                contacto int(30))\"\"\")\n",
        "\n",
        "#GUARDAR CAMBIOS\n",
        "conexion.commit()"
      ],
      "metadata": {
        "id": "Bip309TBwrPl"
      },
      "execution_count": 55,
      "outputs": []
    },
    {
      "cell_type": "markdown",
      "source": [
        "# clase donantes"
      ],
      "metadata": {
        "id": "SmU3y1xOXc1h"
      }
    },
    {
      "cell_type": "code",
      "source": [
        "# Definir la clase Donante de Sangre\n",
        "class Donante:\n",
        "    def __init__(self, nombre, apellido, cedula, tipo_sangre, ubicacion, contacto):\n",
        "        self.nombre = nombre\n",
        "        self.apellido = apellido\n",
        "        self.cedula = cedula\n",
        "        self.tipo_sangre = tipo_sangre\n",
        "        self.ubicacion = ubicacion\n",
        "        self.contacto = contacto\n",
        "\n",
        "    # metodo registrar en la tabla donan\n",
        "    def registrar_donante(self):\n",
        "\n",
        "        # datos agrupados en una lista\n",
        "        datos = [self.nombre, self.apellido, self.cedula, self.tipo_sangre, self.ubicacion, self.contacto]\n",
        "\n",
        "        # verificación para hacer la inserción de datos\n",
        "        cursor.execute(f\"SELECT cedula FROM donantes_sangre WHERE cedula = {self.cedula};\")\n",
        "\n",
        "        # para leer todos los datos\n",
        "        cc = cursor.fetchall()\n",
        "        cedula_registradas = [i[0] for i in cc]\n",
        "\n",
        "        if (self.cedula in cedula_registradas)==False:\n",
        "                try:\n",
        "                 # insertar datos\n",
        "                  cursor.execute(\"INSERT INTO donantes_sangre VALUES(null, ?, ?, ?, ?, ?, ?)\", datos)\n",
        "                  print(\"\\nRegistro exitoso\\n\")\n",
        "                  print(f\"\\nEl donante {self.nombre.upper()} {self.apellido.upper()} se registró correctamente\\n\")\n",
        "\n",
        "\n",
        "                except:\n",
        "                  print(\"Hubo un error de registro\")\n",
        "        else:\n",
        "          print(f\"\\nEl donante {self.nombre.upper()} {self.apellido.upper()} ya fue registrado anteriormente\\n\")\n",
        "\n",
        "\n",
        "        conexion.commit()"
      ],
      "metadata": {
        "id": "z0IUuV9_wtTp"
      },
      "execution_count": 56,
      "outputs": []
    },
    {
      "cell_type": "markdown",
      "source": [
        "# metodos CRUD"
      ],
      "metadata": {
        "id": "nHlmwwKpXhyL"
      }
    },
    {
      "cell_type": "code",
      "source": [
        "# metodo eliminar donante en la tabla donan\n",
        "def eliminarar_donante(cedula):\n",
        "\n",
        "  print(\"\\nVas a eliminar un dontannte permanente mente\")\n",
        "  respuesta = input(\"¿Esta seguro? \").lower()\n",
        "\n",
        "  if respuesta == 'si' or respuesta == 'sí':\n",
        "    cedulac = int(input(\"\\nIngrese nuevamente la cedula del usuario a eliminar: \"))\n",
        "\n",
        "    # verificación para hacer la inserción de datos\n",
        "    cursor.execute(f\"SELECT cedula FROM donantes_sangre WHERE cedula = {cedula};\")\n",
        "\n",
        "    # para leer todos los datos\n",
        "    cc = cursor.fetchall()\n",
        "    cedula_registradas = [i[0] for i in cc]\n",
        "\n",
        "\n",
        "    if cedulac == cedula:\n",
        "\n",
        "      if (cedula in cedula_registradas)==True:\n",
        "        # eliminar datos\n",
        "        cursor.execute(f\"DELETE FROM donantes_sangre WHERE cedula = {cedulac}\")\n",
        "        print(\"\\n¡Donante eliminado correctamente!\\n\")\n",
        "\n",
        "        conexion.commit()\n",
        "      else:\n",
        "        print(f\"\\n\\nNo hay usuarios registrados con la cedula {cedulac}\")\n",
        "\n",
        "\n",
        "    else:\n",
        "         print(\"\\nLas cedulas no coinciden\")\n",
        "         eliminarar_donante(cedula)\n",
        "\n",
        "  else:\n",
        "      main()\n",
        "\n",
        "\n",
        "\n",
        "\n",
        "#  buscar donante\n",
        "def buscar_donante(cedula):\n",
        "  # verificación para hacer la inserción de datos\n",
        "  #cursor.execute(f\"SELECT cedula FROM donantes_sangre WHERE cedula = {cedula};\")\n",
        "\n",
        "  # para leer todos los datos\n",
        "  #cc = cursor.fetchall()\n",
        "  #cedula_registradas = [i[0] for i in cc]\n",
        "\n",
        "  # leer datos\n",
        "  try:\n",
        "    #query\n",
        "    cursor.execute(f\"SELECT nombre, apellido, cedula, tipo_sangre, contacto FROM donantes_sangre WHERE cedula = {cedula};\")\n",
        "\n",
        "\n",
        "    # para presentar todos los datos\n",
        "    cc = cursor.fetchall()\n",
        "    print(\"\\n\", \"-\"*50,\"\\n\")\n",
        "    print(f\"Donante: {(cc[0][0]).upper()} {(cc[0][1]).upper()}\")\n",
        "    print(f\"Tipo de sangre: {(cc[0][3])}\")\n",
        "    print(f\"Cedula: {cc[0][2]}\")\n",
        "    print(f\"Contactar al:{cc[0][4]}\\n\")\n",
        "    print(\"-\"*50, \"\\n\")\n",
        "\n",
        "  except:\n",
        "    print(\"No hay cedulas registradas\")\n",
        "\n",
        "\n",
        "\n",
        "# actualizar datos\n",
        "def Actualizar_donante(cedula):\n",
        "  cursor.execute(f\"SELECT cedula FROM donantes_sangre WHERE cedula = {cedula};\")\n",
        "\n",
        "  # para leer todos los datos\n",
        "  cc = cursor.fetchall()\n",
        "  cedula_registradas = [i[0] for i in cc]\n",
        "\n",
        "  # leer datos\n",
        "  if cedula in cedula_registradas:\n",
        "    nombre = input(\"Nombre nuevo: \")\n",
        "    apellido = input(\"Apellido nuevo: \")\n",
        "    new_cedula = int(input(\"cédula nueva: \"))\n",
        "    tipo_sangre = input(\"tipo de sangre: \")\n",
        "    ubicacion = input(\"Ubicación: \")\n",
        "    contacto = input(\"Número de contacto: \")\n",
        "\n",
        "    valores = [nombre, apellido, new_cedula, tipo_sangre,ubicacion, contacto]\n",
        "\n",
        "    try:\n",
        "      #query\n",
        "      sql =  f\"\"\"UPDATE donantes_sangre SET nombre = ?, apellido = ?, cedula = ?, tipo_sangre = ?, ubicación = ?, contacto = ? WHERE cedula = {cedula};\"\"\"\n",
        "\n",
        "      cursor.execute(sql, valores)\n",
        "      conexion.commit()\n",
        "      print(\"-\"*50)\n",
        "      print(\"Se realizó la actualización correctamente\")\n",
        "    except:\n",
        "      print(\"¡¡¡....algo sucedio....!!!\")\n",
        "      print(\"No hay cedulas registradas para actualizar\")"
      ],
      "metadata": {
        "id": "aGl3YjBUiQ7-"
      },
      "execution_count": 57,
      "outputs": []
    },
    {
      "cell_type": "markdown",
      "source": [
        "# función principal"
      ],
      "metadata": {
        "id": "1v1hRlkFXnsz"
      }
    },
    {
      "cell_type": "code",
      "source": [
        "# Función principal\n",
        "def main():\n",
        "\n",
        "    while True:\n",
        "        print(\"\\nBienvenido a la aplicación de donantes de sangre\")\n",
        "        print(\"1. Registrar donante\")\n",
        "        print(\"2. Eliminar donante\")\n",
        "        print(\"3. Buscar donantes por cédula\")\n",
        "        print(\"4. Actualizar datos de usuario\")\n",
        "        print(\"5. Salir\")\n",
        "\n",
        "        opcion = input(\"Seleccione una opción: \")\n",
        "\n",
        "        if opcion == \"1\":\n",
        "            print(\"Registro de nuevo donante\")\n",
        "            nombre = input(\"Nombre: \").lower()\n",
        "            apellido = input(\"Apellido: \").lower()\n",
        "            cedula = int(input(\"Cedula: \"))\n",
        "            tipo_sangre = input(\"Tipo de sangre: \").upper()\n",
        "            ubicacion = input(\"Ubicación: \").lower()\n",
        "            contacto = int(input(\"Número de contacto: \"))\n",
        "\n",
        "            donante = Donante(nombre, apellido, cedula, tipo_sangre, ubicacion, contacto)\n",
        "            donante.registrar_donante()\n",
        "\n",
        "\n",
        "        elif opcion == \"2\":\n",
        "          cedula = int(input(\"Cedula: \"))\n",
        "          eliminarar_donante(cedula)\n",
        "\n",
        "        elif opcion == \"3\":\n",
        "          cedula = int(input(\"Cedula: \"))\n",
        "          # hay cedulas repetidas.. corregir desde el ingreso de las cedulas\n",
        "          buscar_donante(cedula)\n",
        "\n",
        "        # actualizar datos de usuario unir con el de buscar...\n",
        "        elif opcion == \"4\":\n",
        "          cedula = int(input(\"Cedula: \"))\n",
        "          Actualizar_donante(cedula)\n",
        "\n",
        "        # salir de la app\n",
        "        elif opcion == \"5\":\n",
        "          print(\"\\n¡Hasta luego!\")\n",
        "          break\n",
        "\n",
        "            #print(\"Opción inválida. Por favor, seleccione una opción válida.\")\n",
        "\n",
        "\n"
      ],
      "metadata": {
        "id": "-EaTonI722pQ"
      },
      "execution_count": 58,
      "outputs": []
    },
    {
      "cell_type": "markdown",
      "source": [
        "# aplicación"
      ],
      "metadata": {
        "id": "yBay7u4hXrMg"
      }
    },
    {
      "cell_type": "code",
      "source": [
        "# Ejecutar la aplicación\n",
        "if __name__ == '__main__':\n",
        "  main()"
      ],
      "metadata": {
        "id": "Dvnq8RfhIxrF",
        "colab": {
          "base_uri": "https://localhost:8080/"
        },
        "outputId": "8f3216f0-c627-46b2-8047-41949ce80577",
        "collapsed": true
      },
      "execution_count": 59,
      "outputs": [
        {
          "output_type": "stream",
          "name": "stdout",
          "text": [
            "\n",
            "Bienvenido a la aplicación de donantes de sangre\n",
            "1. Registrar donante\n",
            "2. Eliminar donante\n",
            "3. Buscar donantes por cédula\n",
            "4. Actualizar datos de usuario\n",
            "5. Salir\n",
            "Seleccione una opción: 1\n",
            "Registro de nuevo donante\n",
            "Nombre: emanuel\n",
            "Apellido: garcia\n",
            "Cedula: 123\n",
            "Tipo de sangre: ab-\n",
            "Ubicación: Bogotá\n",
            "Número de contacto: 45678\n",
            "\n",
            "Registro exitoso\n",
            "\n",
            "\n",
            "El donante EMANUEL GARCIA se registró correctamente\n",
            "\n",
            "\n",
            "Bienvenido a la aplicación de donantes de sangre\n",
            "1. Registrar donante\n",
            "2. Eliminar donante\n",
            "3. Buscar donantes por cédula\n",
            "4. Actualizar datos de usuario\n",
            "5. Salir\n",
            "Seleccione una opción: 3\n",
            "Cedula: 123\n",
            "\n",
            " -------------------------------------------------- \n",
            "\n",
            "Donante: EMANUEL GARCIA\n",
            "Tipo de sangre: AB-\n",
            "Cedula: 123\n",
            "Contactar al:45678\n",
            "\n",
            "-------------------------------------------------- \n",
            "\n",
            "\n",
            "Bienvenido a la aplicación de donantes de sangre\n",
            "1. Registrar donante\n",
            "2. Eliminar donante\n",
            "3. Buscar donantes por cédula\n",
            "4. Actualizar datos de usuario\n",
            "5. Salir\n",
            "Seleccione una opción: 4\n",
            "Cedula: 123\n",
            "Nombre nuevo: ismael\n",
            "Apellido nuevo: vasco\n",
            "cédula nueva: 3456\n",
            "tipo de sangre: o-\n",
            "Ubicación: Medellín\n",
            "Número de contacto: 123456\n",
            "--------------------------------------------------\n",
            "Se realizó la actualización correctamente\n",
            "\n",
            "Bienvenido a la aplicación de donantes de sangre\n",
            "1. Registrar donante\n",
            "2. Eliminar donante\n",
            "3. Buscar donantes por cédula\n",
            "4. Actualizar datos de usuario\n",
            "5. Salir\n",
            "Seleccione una opción: 3\n",
            "Cedula: 3456\n",
            "\n",
            " -------------------------------------------------- \n",
            "\n",
            "Donante: ISMAEL VASCO\n",
            "Tipo de sangre: o-\n",
            "Cedula: 3456\n",
            "Contactar al:123456\n",
            "\n",
            "-------------------------------------------------- \n",
            "\n",
            "\n",
            "Bienvenido a la aplicación de donantes de sangre\n",
            "1. Registrar donante\n",
            "2. Eliminar donante\n",
            "3. Buscar donantes por cédula\n",
            "4. Actualizar datos de usuario\n",
            "5. Salir\n",
            "Seleccione una opción: 2\n",
            "Cedula: 3456\n",
            "\n",
            "Vas a eliminar un dontannte permanente mente\n",
            "¿Esta seguro? si\n",
            "\n",
            "Ingrese nuevamente la cedula del usuario a eliminar: 3456\n",
            "\n",
            "¡Donante eliminado correctamente!\n",
            "\n",
            "\n",
            "Bienvenido a la aplicación de donantes de sangre\n",
            "1. Registrar donante\n",
            "2. Eliminar donante\n",
            "3. Buscar donantes por cédula\n",
            "4. Actualizar datos de usuario\n",
            "5. Salir\n",
            "Seleccione una opción: 3\n",
            "Cedula: 3456\n",
            "\n",
            " -------------------------------------------------- \n",
            "\n",
            "No hay cedulas registradas\n",
            "\n",
            "Bienvenido a la aplicación de donantes de sangre\n",
            "1. Registrar donante\n",
            "2. Eliminar donante\n",
            "3. Buscar donantes por cédula\n",
            "4. Actualizar datos de usuario\n",
            "5. Salir\n",
            "Seleccione una opción: 5\n",
            "\n",
            "¡Hasta luego!\n"
          ]
        }
      ]
    },
    {
      "cell_type": "markdown",
      "source": [
        "#Visualización de lo que hay en la DB\n"
      ],
      "metadata": {
        "id": "NBm7uzkpXIHK"
      }
    },
    {
      "cell_type": "code",
      "source": [
        "#cedula = int(input(\"cedula: \"))\n",
        "cursor.execute(f\"SELECT * FROM donantes_sangre;\")\n",
        "\n",
        "# para leer todos los datos\n",
        "cc = cursor.fetchall()\n",
        "cedula_registradas = [i[0] for i in cc]\n",
        "\n",
        "for producto in cc:\n",
        "  print(producto)\n",
        "\n",
        "#\n",
        "#if cedula in cedula_registradas:\n",
        " #  print(\"su cedula ya esta registrada\")\n",
        "\n",
        "\n",
        "#else:\n",
        " # print(\"Su cedula se registrará\")\n",
        "  #cedula_registradas.append(cedula)\n",
        "  #print(f\"cedulas registradas: {cedula_registradas}\")"
      ],
      "metadata": {
        "id": "it8d-XIm21PS",
        "colab": {
          "base_uri": "https://localhost:8080/"
        },
        "outputId": "9e4a12ea-406c-448f-dba6-f4328ae97819"
      },
      "execution_count": 40,
      "outputs": [
        {
          "output_type": "stream",
          "name": "stdout",
          "text": [
            "(1, 'danilo', 'gomez', 56789, 'AB-', 'poblado - medellín', 4567890)\n"
          ]
        }
      ]
    },
    {
      "cell_type": "code",
      "source": [
        "\n",
        "#cedula = int(input(\"cedula: \"))\n",
        "cursor.execute(f\"SELECT nombre, apellido, cedula, tipo_sangre, contacto FROM donantes_sangre ;\")\n",
        "cc = cursor.fetchall()\n",
        "\n",
        "print(cc)\n",
        "\n",
        "for datos in cc:\n",
        "  print(cc)"
      ],
      "metadata": {
        "id": "F1X5kHvE219I",
        "colab": {
          "base_uri": "https://localhost:8080/"
        },
        "outputId": "ac0f9be2-8988-49f2-a00c-24787e029bd0"
      },
      "execution_count": 44,
      "outputs": [
        {
          "output_type": "stream",
          "name": "stdout",
          "text": [
            "[('danilo', 'gomez', 56789, 'AB-', 4567890)]\n",
            "[('danilo', 'gomez', 56789, 'AB-', 4567890)]\n"
          ]
        }
      ]
    },
    {
      "cell_type": "code",
      "source": [
        "# para borrar datos\n",
        "cursor.execute(\"DELETE FROM donantes_sangre\")"
      ],
      "metadata": {
        "colab": {
          "base_uri": "https://localhost:8080/",
          "height": 158
        },
        "id": "HOgpMLiyg6K7",
        "outputId": "fa913edb-e7d3-481a-f325-f27426c4d3be",
        "collapsed": true
      },
      "execution_count": 43,
      "outputs": [
        {
          "output_type": "error",
          "ename": "OperationalError",
          "evalue": "database is locked",
          "traceback": [
            "\u001b[0;31m---------------------------------------------------------------------------\u001b[0m",
            "\u001b[0;31mOperationalError\u001b[0m                          Traceback (most recent call last)",
            "\u001b[0;32m<ipython-input-43-355e0e8c6c02>\u001b[0m in \u001b[0;36m<cell line: 2>\u001b[0;34m()\u001b[0m\n\u001b[1;32m      1\u001b[0m \u001b[0;31m# para borrar datos\u001b[0m\u001b[0;34m\u001b[0m\u001b[0;34m\u001b[0m\u001b[0m\n\u001b[0;32m----> 2\u001b[0;31m \u001b[0mcursor\u001b[0m\u001b[0;34m.\u001b[0m\u001b[0mexecute\u001b[0m\u001b[0;34m(\u001b[0m\u001b[0;34m\"DELETE FROM donantes_sangre\"\u001b[0m\u001b[0;34m)\u001b[0m\u001b[0;34m\u001b[0m\u001b[0;34m\u001b[0m\u001b[0m\n\u001b[0m",
            "\u001b[0;31mOperationalError\u001b[0m: database is locked"
          ]
        }
      ]
    },
    {
      "cell_type": "code",
      "source": [
        "cedula = int(input(\"cedula: \"))\n",
        "cursor.execute(f\"SELECT cedula FROM donantes_sangre WHERE cedula = {cedula};\")\n",
        "\n",
        "# para leer todos los datos\n",
        "cc = cursor.fetchall()\n",
        "cedula_registradas = [i[0] for i in cc]\n",
        "\n",
        "print(cedula_registradas)\n",
        "\n",
        "\n",
        "  # leer datos\n",
        "if cedula in cedula_registradas:\n",
        "    nombre = input(\"Nombre nuevo: \")\n",
        "    apellido = input(\"Apellido nuevo: \")\n",
        "    new_cedula = int(input(\"cédula nueva: \"))\n",
        "    tipo_sangre = input(\"tipo de sangre: \")\n",
        "    ubicacion = input(\"Ubicación: \")\n",
        "    contacto = int(input(\"Número de contacto: \"))\n",
        "\n",
        "    valores = [nombre, apellido, new_cedula, tipo_sangre,ubicacion, contacto]\n",
        "\n",
        "    print(valores)\n",
        "\n",
        "\n",
        "    sql = f\"\"\"UPDATE donantes_sangre SET nombre = ?, apellido = ?, cedula = ?, tipo_sangre = ?, ubicación = ?, contacto = ? WHERE cedula = {cedula};\"\"\"\n",
        "    #cursor.execute(sql, (nombre,apellido,new_cedula,tipo_sangre,ubicacion,contacto))\n",
        "    cursor.execute(sql, valores)\n",
        "    conexion.commit()\n",
        "\n"
      ],
      "metadata": {
        "id": "j2oEqYUG8QoM",
        "colab": {
          "base_uri": "https://localhost:8080/"
        },
        "outputId": "cd7e3752-1854-4f24-b8ca-85d3e58208a3"
      },
      "execution_count": null,
      "outputs": [
        {
          "output_type": "stream",
          "name": "stdout",
          "text": [
            "cedula: 1234\n",
            "[]\n"
          ]
        }
      ]
    }
  ]
}