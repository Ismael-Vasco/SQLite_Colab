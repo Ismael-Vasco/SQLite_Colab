{
  "nbformat": 4,
  "nbformat_minor": 0,
  "metadata": {
    "colab": {
      "provenance": [],
      "authorship_tag": "ABX9TyNUYzPKuBV/DrdAahhqpkOR",
      "include_colab_link": true
    },
    "kernelspec": {
      "name": "python3",
      "display_name": "Python 3"
    },
    "language_info": {
      "name": "python"
    }
  },
  "cells": [
    {
      "cell_type": "markdown",
      "metadata": {
        "id": "view-in-github",
        "colab_type": "text"
      },
      "source": [
        "<a href=\"https://colab.research.google.com/github/Ismael-Vasco/SQLite_Colab/blob/main/SQLite.ipynb\" target=\"_parent\"><img src=\"https://colab.research.google.com/assets/colab-badge.svg\" alt=\"Open In Colab\"/></a>"
      ]
    },
    {
      "cell_type": "code",
      "execution_count": null,
      "metadata": {
        "id": "CCxVDrYZCEvX"
      },
      "outputs": [],
      "source": [
        "import sqlite3"
      ]
    },
    {
      "cell_type": "code",
      "source": [
        "# crear conexión en el directorio\n",
        "conexion = sqlite3.connect('pruebas.db')\n",
        "\n",
        "# crear cursor\n",
        "cursor = conexion.cursor()\n",
        "\n",
        "# crear tabla\n",
        "cursor.execute(\"\"\"CREATE TABLE IF NOT EXISTS productos(\n",
        "                id integer primary key AUTOINCREMENT,\n",
        "                titulo varchar(255),\n",
        "                descripcion text,\n",
        "                precio int(255))\"\"\")\n",
        "\n",
        "#GUARDAR CAMBIOS\n",
        "conexion.commit()\n",
        "\n"
      ],
      "metadata": {
        "id": "6GVwyD_KCOlm"
      },
      "execution_count": null,
      "outputs": []
    },
    {
      "cell_type": "code",
      "source": [
        "# insertar datos\n",
        "cursor.execute(\"\"\"INSERT INTO productos(titulo, descripcion, precio) VALUES(\n",
        "                'primer producto',\n",
        "                'descripción del producto',\n",
        "                550)\"\"\")\n",
        "\n",
        "conexion.commit()\n",
        "\n"
      ],
      "metadata": {
        "id": "5-qeKRfaCbE5"
      },
      "execution_count": null,
      "outputs": []
    },
    {
      "cell_type": "code",
      "source": [
        "# leer datos\n",
        "cursor.execute(\"SELECT * FROM productos;\")\n",
        "\n",
        "# para leer todos los datos\n",
        "productos = cursor.fetchall()\n",
        "\n",
        "for producto in productos:\n",
        "  print(producto)\n",
        "\n",
        "# para leer de a un dato\n",
        "\n",
        "cursor.execute(\"SELECT titulo FROM productos;\")\n",
        "\n",
        "producto1 = cursor.fetchone()\n",
        "print(producto1)\n"
      ],
      "metadata": {
        "colab": {
          "base_uri": "https://localhost:8080/"
        },
        "id": "CvDQ_Ok-Crpf",
        "outputId": "82dd3a50-5355-402d-e010-7bfd332807cb"
      },
      "execution_count": null,
      "outputs": [
        {
          "output_type": "stream",
          "name": "stdout",
          "text": [
            "(2, 'ordenador', 'Buen pc', 700)\n",
            "(3, 'telefoo', 'Buen cel', 140)\n",
            "(4, 'placa base', 'Buen placa', 80)\n",
            "(5, 'tablet 15', 'Buen tablet', 300)\n",
            "(6, 'libre', 'Buen facil', 7000)\n",
            "('ordenador',)\n"
          ]
        }
      ]
    },
    {
      "cell_type": "code",
      "source": [
        "# para borrar datos\n",
        "cursor.execute(\"DELETE FROM productos\")"
      ],
      "metadata": {
        "colab": {
          "base_uri": "https://localhost:8080/"
        },
        "id": "dpYXxMvcXKfu",
        "outputId": "55cf2417-e567-4ded-eaa5-43242ffd7052"
      },
      "execution_count": null,
      "outputs": [
        {
          "output_type": "execute_result",
          "data": {
            "text/plain": [
              "<sqlite3.Cursor at 0x79cb0c76fa40>"
            ]
          },
          "metadata": {},
          "execution_count": 5
        }
      ]
    },
    {
      "cell_type": "code",
      "source": [
        "# para actualizar datos\n",
        "cursor.execute(\"UPDATE productos SET precio = 735 WHERE precio = 700;\")"
      ],
      "metadata": {
        "colab": {
          "base_uri": "https://localhost:8080/"
        },
        "id": "OZlK3nbROBhB",
        "outputId": "e2649169-676d-4bcd-e48c-df42a13b18f9"
      },
      "execution_count": null,
      "outputs": [
        {
          "output_type": "execute_result",
          "data": {
            "text/plain": [
              "<sqlite3.Cursor at 0x79cb0c76fa40>"
            ]
          },
          "metadata": {},
          "execution_count": 6
        }
      ]
    },
    {
      "cell_type": "code",
      "source": [
        "# insertar datos de una lista\n",
        "\n",
        "productos_lista =[\n",
        "    (\"ordenador\", \"Buen pc\", 700),\n",
        "    (\"telefoo\", \"Buen cel\", 140),\n",
        "    (\"placa base\", \"Buen placa\", 80),\n",
        "    (\"tablet 15\", \"Buen tablet\", 300),\n",
        "    (\"libre\", \"Buen facil\", 7000),\n",
        "]\n",
        "\n",
        "# insertar los valores de la lista productos_lista\n",
        "\n",
        "cursor.executemany(\"INSERT INTO productos(id,titulo, descripcion, precio) VALUES (null,?,?,?)\", productos_lista)\n",
        "conexion.commit()"
      ],
      "metadata": {
        "id": "sd1MrrtfYRqk"
      },
      "execution_count": null,
      "outputs": []
    },
    {
      "cell_type": "code",
      "source": [
        "# cerrar conexión\n",
        "conexion.close()"
      ],
      "metadata": {
        "id": "lR6xXM5PCdnt"
      },
      "execution_count": null,
      "outputs": []
    }
  ]
}